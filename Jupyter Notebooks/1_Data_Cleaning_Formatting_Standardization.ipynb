{
 "cells": [
  {
   "cell_type": "markdown",
   "id": "ad4df14e",
   "metadata": {},
   "source": [
    "# **Data Cleaning, Formatting and Standardization:**"
   ]
  },
  {
   "cell_type": "markdown",
   "id": "c4e2dd17",
   "metadata": {},
   "source": [
    "## **Import Used Libraries and Modules:**"
   ]
  },
  {
   "cell_type": "code",
   "execution_count": 1,
   "id": "9b80442b",
   "metadata": {},
   "outputs": [],
   "source": [
    "import pandas as pd\n",
    "import numpy as np\n",
    "import matplotlib.pyplot as plt"
   ]
  },
  {
   "cell_type": "markdown",
   "id": "bb663a8b",
   "metadata": {},
   "source": [
    "## **Export Target Dataframe (bayut_egypt.csv):**"
   ]
  },
  {
   "cell_type": "code",
   "execution_count": 2,
   "id": "132443ff",
   "metadata": {},
   "outputs": [],
   "source": [
    "df = pd.read_csv('Dataset/bayut_egypt.csv')"
   ]
  },
  {
   "cell_type": "markdown",
   "id": "c03649be",
   "metadata": {},
   "source": [
    "## **Create A Copy of the Main Dataframe (df_copy):**"
   ]
  },
  {
   "cell_type": "code",
   "execution_count": 3,
   "id": "345c0371",
   "metadata": {},
   "outputs": [],
   "source": [
    "df_copy = df.copy()"
   ]
  },
  {
   "cell_type": "code",
   "execution_count": 4,
   "id": "a408c5bf",
   "metadata": {},
   "outputs": [
    {
     "data": {
      "text/plain": [
       "12384"
      ]
     },
     "execution_count": 4,
     "metadata": {},
     "output_type": "execute_result"
    }
   ],
   "source": [
    "len(df_copy)"
   ]
  },
  {
   "cell_type": "markdown",
   "id": "bf91eaaf",
   "metadata": {},
   "source": [
    "## **1. Data Inspection:**"
   ]
  },
  {
   "cell_type": "code",
   "execution_count": 5,
   "id": "2c9ae70d",
   "metadata": {},
   "outputs": [
    {
     "name": "stdout",
     "output_type": "stream",
     "text": [
      "<class 'pandas.core.frame.DataFrame'>\n",
      "RangeIndex: 12384 entries, 0 to 12383\n",
      "Data columns (total 9 columns):\n",
      " #   Column            Non-Null Count  Dtype \n",
      "---  ------            --------------  ----- \n",
      " 0   Real_Estate_Type  12384 non-null  object\n",
      " 1   Location          12384 non-null  object\n",
      " 2   Price             12384 non-null  object\n",
      " 3   Down_Payment      5942 non-null   object\n",
      " 4   Currency          12384 non-null  object\n",
      " 5   Bedrooms_Number   12384 non-null  object\n",
      " 6   Bathrooms_Number  12384 non-null  int64 \n",
      " 7   Area              12384 non-null  object\n",
      " 8   Description       12384 non-null  object\n",
      "dtypes: int64(1), object(8)\n",
      "memory usage: 870.9+ KB\n"
     ]
    }
   ],
   "source": [
    "df_copy.info()"
   ]
  },
  {
   "cell_type": "code",
   "execution_count": 6,
   "id": "cdcd631d",
   "metadata": {},
   "outputs": [
    {
     "data": {
      "text/html": [
       "<div>\n",
       "<style scoped>\n",
       "    .dataframe tbody tr th:only-of-type {\n",
       "        vertical-align: middle;\n",
       "    }\n",
       "\n",
       "    .dataframe tbody tr th {\n",
       "        vertical-align: top;\n",
       "    }\n",
       "\n",
       "    .dataframe thead th {\n",
       "        text-align: right;\n",
       "    }\n",
       "</style>\n",
       "<table border=\"1\" class=\"dataframe\">\n",
       "  <thead>\n",
       "    <tr style=\"text-align: right;\">\n",
       "      <th></th>\n",
       "      <th>Real_Estate_Type</th>\n",
       "      <th>Location</th>\n",
       "      <th>Price</th>\n",
       "      <th>Down_Payment</th>\n",
       "      <th>Currency</th>\n",
       "      <th>Bedrooms_Number</th>\n",
       "      <th>Bathrooms_Number</th>\n",
       "      <th>Area</th>\n",
       "      <th>Description</th>\n",
       "    </tr>\n",
       "  </thead>\n",
       "  <tbody>\n",
       "    <tr>\n",
       "      <th>0</th>\n",
       "      <td>Apartment</td>\n",
       "      <td>Sodic East, New Heliopolis, Cairo</td>\n",
       "      <td>28,595,000</td>\n",
       "      <td>Down payment: EGP 2,859,500</td>\n",
       "      <td>EGP</td>\n",
       "      <td>3</td>\n",
       "      <td>3</td>\n",
       "      <td>223 Sq. M.</td>\n",
       "      <td>A fully finished private penthouse for sale in...</td>\n",
       "    </tr>\n",
       "    <tr>\n",
       "      <th>1</th>\n",
       "      <td>Apartment</td>\n",
       "      <td>Shorouk City, Cairo</td>\n",
       "      <td>4,200,000</td>\n",
       "      <td>Down payment: EGP 420,000</td>\n",
       "      <td>EGP</td>\n",
       "      <td>3</td>\n",
       "      <td>2</td>\n",
       "      <td>150 Sq. M.</td>\n",
       "      <td>Apartment for sale: 150 sqm, three bedrooms, a...</td>\n",
       "    </tr>\n",
       "    <tr>\n",
       "      <th>2</th>\n",
       "      <td>Apartment</td>\n",
       "      <td>Beit Al Watan, 5th Settlement, New Cairo, Cairo</td>\n",
       "      <td>6,880,000</td>\n",
       "      <td>NaN</td>\n",
       "      <td>EGP</td>\n",
       "      <td>3</td>\n",
       "      <td>3</td>\n",
       "      <td>255 Sq. M.</td>\n",
       "      <td>\"Choose calmness as a lifestyle and treat your...</td>\n",
       "    </tr>\n",
       "    <tr>\n",
       "      <th>3</th>\n",
       "      <td>Apartment</td>\n",
       "      <td>Mountain View iCity Compound, 5th Settlement, ...</td>\n",
       "      <td>9,000,000</td>\n",
       "      <td>NaN</td>\n",
       "      <td>EGP</td>\n",
       "      <td>3</td>\n",
       "      <td>4</td>\n",
       "      <td>225 Sq. M.</td>\n",
       "      <td>225 m² with a garden at a special price in the...</td>\n",
       "    </tr>\n",
       "    <tr>\n",
       "      <th>4</th>\n",
       "      <td>Apartment</td>\n",
       "      <td>Galleria Moon Valley Compound, 5th Settlement,...</td>\n",
       "      <td>15,200,000</td>\n",
       "      <td>Down payment: EGP 1,520,000</td>\n",
       "      <td>EGP</td>\n",
       "      <td>3</td>\n",
       "      <td>3</td>\n",
       "      <td>161 Sq. M.</td>\n",
       "      <td>Apartment Panorama Ready to move 10% dp over 5...</td>\n",
       "    </tr>\n",
       "  </tbody>\n",
       "</table>\n",
       "</div>"
      ],
      "text/plain": [
       "  Real_Estate_Type                                           Location  \\\n",
       "0        Apartment                  Sodic East, New Heliopolis, Cairo   \n",
       "1        Apartment                                Shorouk City, Cairo   \n",
       "2        Apartment    Beit Al Watan, 5th Settlement, New Cairo, Cairo   \n",
       "3        Apartment  Mountain View iCity Compound, 5th Settlement, ...   \n",
       "4        Apartment  Galleria Moon Valley Compound, 5th Settlement,...   \n",
       "\n",
       "        Price                 Down_Payment Currency Bedrooms_Number  \\\n",
       "0  28,595,000  Down payment: EGP 2,859,500      EGP               3   \n",
       "1   4,200,000    Down payment: EGP 420,000      EGP               3   \n",
       "2   6,880,000                          NaN      EGP               3   \n",
       "3   9,000,000                          NaN      EGP               3   \n",
       "4  15,200,000  Down payment: EGP 1,520,000      EGP               3   \n",
       "\n",
       "   Bathrooms_Number        Area  \\\n",
       "0                 3  223 Sq. M.   \n",
       "1                 2  150 Sq. M.   \n",
       "2                 3  255 Sq. M.   \n",
       "3                 4  225 Sq. M.   \n",
       "4                 3  161 Sq. M.   \n",
       "\n",
       "                                         Description  \n",
       "0  A fully finished private penthouse for sale in...  \n",
       "1  Apartment for sale: 150 sqm, three bedrooms, a...  \n",
       "2  \"Choose calmness as a lifestyle and treat your...  \n",
       "3  225 m² with a garden at a special price in the...  \n",
       "4  Apartment Panorama Ready to move 10% dp over 5...  "
      ]
     },
     "execution_count": 6,
     "metadata": {},
     "output_type": "execute_result"
    }
   ],
   "source": [
    "df_copy.head()"
   ]
  },
  {
   "cell_type": "markdown",
   "id": "1748c1e4",
   "metadata": {},
   "source": [
    "## **2. Data Cleaning and Formatting (Standardization):**"
   ]
  },
  {
   "cell_type": "markdown",
   "id": "ab4bfeae",
   "metadata": {},
   "source": [
    "### **2.1. Standardize Column Names to Lowercase:**"
   ]
  },
  {
   "cell_type": "code",
   "execution_count": 7,
   "id": "bb124b82",
   "metadata": {},
   "outputs": [],
   "source": [
    "df_copy.columns = df_copy.columns.str.lower().str.strip()"
   ]
  },
  {
   "cell_type": "code",
   "execution_count": 8,
   "id": "ad9caf43",
   "metadata": {},
   "outputs": [
    {
     "data": {
      "text/plain": [
       "['real_estate_type',\n",
       " 'location',\n",
       " 'price',\n",
       " 'down_payment',\n",
       " 'currency',\n",
       " 'bedrooms_number',\n",
       " 'bathrooms_number',\n",
       " 'area',\n",
       " 'description']"
      ]
     },
     "execution_count": 8,
     "metadata": {},
     "output_type": "execute_result"
    }
   ],
   "source": [
    "list(df_copy.columns)"
   ]
  },
  {
   "cell_type": "markdown",
   "id": "8dc4e3af",
   "metadata": {},
   "source": [
    "### **2.2. Delete Columns (currency - description) As They Do Not Benefit In Analysis:**"
   ]
  },
  {
   "cell_type": "code",
   "execution_count": 9,
   "id": "bf520b21",
   "metadata": {},
   "outputs": [],
   "source": [
    "df_copy.drop(\n",
    "    columns=['currency', 'description'],\n",
    "    inplace=True\n",
    ")"
   ]
  },
  {
   "cell_type": "code",
   "execution_count": 10,
   "id": "12e70690",
   "metadata": {},
   "outputs": [
    {
     "name": "stdout",
     "output_type": "stream",
     "text": [
      "<class 'pandas.core.frame.DataFrame'>\n",
      "RangeIndex: 12384 entries, 0 to 12383\n",
      "Data columns (total 7 columns):\n",
      " #   Column            Non-Null Count  Dtype \n",
      "---  ------            --------------  ----- \n",
      " 0   real_estate_type  12384 non-null  object\n",
      " 1   location          12384 non-null  object\n",
      " 2   price             12384 non-null  object\n",
      " 3   down_payment      5942 non-null   object\n",
      " 4   bedrooms_number   12384 non-null  object\n",
      " 5   bathrooms_number  12384 non-null  int64 \n",
      " 6   area              12384 non-null  object\n",
      "dtypes: int64(1), object(6)\n",
      "memory usage: 677.4+ KB\n"
     ]
    }
   ],
   "source": [
    "df_copy.info()"
   ]
  },
  {
   "cell_type": "markdown",
   "id": "cf353186",
   "metadata": {},
   "source": [
    "### **2.3. Ensure the Area is Consistent in \"Sq. M\" (Area Column Standarization):**"
   ]
  },
  {
   "cell_type": "code",
   "execution_count": 11,
   "id": "99f9ff44",
   "metadata": {},
   "outputs": [
    {
     "name": "stdout",
     "output_type": "stream",
     "text": [
      "[False]\n",
      "[False]\n"
     ]
    }
   ],
   "source": [
    "print(df_copy['area'].str.contains('Sq. FT.').unique()) # [False]\n",
    "print(df_copy['area'].str.contains('Sq. Ft.').unique()) # [False]"
   ]
  },
  {
   "cell_type": "markdown",
   "id": "bf595b1b",
   "metadata": {},
   "source": [
    "### **2.4. Dealing With Duplicated Values:**"
   ]
  },
  {
   "cell_type": "code",
   "execution_count": 12,
   "id": "7e51be1d",
   "metadata": {},
   "outputs": [
    {
     "data": {
      "text/plain": [
       "4372"
      ]
     },
     "execution_count": 12,
     "metadata": {},
     "output_type": "execute_result"
    }
   ],
   "source": [
    "int(df_copy.duplicated().sum()) # 4372"
   ]
  },
  {
   "cell_type": "code",
   "execution_count": 13,
   "id": "934d247d",
   "metadata": {},
   "outputs": [],
   "source": [
    "duplicated_rows = df_copy[df_copy.duplicated(\n",
    "    ['real_estate_type', 'location','price', 'bedrooms_number', 'bathrooms_number','area'],\n",
    "    keep=False\n",
    ") == True].sort_values(\n",
    "    ['real_estate_type', 'location','price', 'bedrooms_number', 'bathrooms_number','area'],\n",
    "    ascending=True\n",
    ")"
   ]
  },
  {
   "cell_type": "code",
   "execution_count": 14,
   "id": "4584a9b2",
   "metadata": {},
   "outputs": [
    {
     "data": {
      "text/html": [
       "<div>\n",
       "<style scoped>\n",
       "    .dataframe tbody tr th:only-of-type {\n",
       "        vertical-align: middle;\n",
       "    }\n",
       "\n",
       "    .dataframe tbody tr th {\n",
       "        vertical-align: top;\n",
       "    }\n",
       "\n",
       "    .dataframe thead th {\n",
       "        text-align: right;\n",
       "    }\n",
       "</style>\n",
       "<table border=\"1\" class=\"dataframe\">\n",
       "  <thead>\n",
       "    <tr style=\"text-align: right;\">\n",
       "      <th></th>\n",
       "      <th>real_estate_type</th>\n",
       "      <th>location</th>\n",
       "      <th>price</th>\n",
       "      <th>down_payment</th>\n",
       "      <th>bedrooms_number</th>\n",
       "      <th>bathrooms_number</th>\n",
       "      <th>area</th>\n",
       "    </tr>\n",
       "  </thead>\n",
       "  <tbody>\n",
       "    <tr>\n",
       "      <th>1267</th>\n",
       "      <td>Apartment</td>\n",
       "      <td>1st District, 5th Settlement, New Cairo, Cairo</td>\n",
       "      <td>9,000,000</td>\n",
       "      <td>NaN</td>\n",
       "      <td>3</td>\n",
       "      <td>2</td>\n",
       "      <td>225 Sq. M.</td>\n",
       "    </tr>\n",
       "    <tr>\n",
       "      <th>1339</th>\n",
       "      <td>Apartment</td>\n",
       "      <td>1st District, 5th Settlement, New Cairo, Cairo</td>\n",
       "      <td>9,000,000</td>\n",
       "      <td>NaN</td>\n",
       "      <td>3</td>\n",
       "      <td>2</td>\n",
       "      <td>225 Sq. M.</td>\n",
       "    </tr>\n",
       "    <tr>\n",
       "      <th>11512</th>\n",
       "      <td>Apartment</td>\n",
       "      <td>1st Settlement, New Cairo, Cairo</td>\n",
       "      <td>4,650,000</td>\n",
       "      <td>NaN</td>\n",
       "      <td>3</td>\n",
       "      <td>2</td>\n",
       "      <td>155 Sq. M.</td>\n",
       "    </tr>\n",
       "    <tr>\n",
       "      <th>11543</th>\n",
       "      <td>Apartment</td>\n",
       "      <td>1st Settlement, New Cairo, Cairo</td>\n",
       "      <td>4,650,000</td>\n",
       "      <td>NaN</td>\n",
       "      <td>3</td>\n",
       "      <td>2</td>\n",
       "      <td>155 Sq. M.</td>\n",
       "    </tr>\n",
       "    <tr>\n",
       "      <th>11896</th>\n",
       "      <td>Apartment</td>\n",
       "      <td>1st Settlement, New Cairo, Cairo</td>\n",
       "      <td>4,650,000</td>\n",
       "      <td>NaN</td>\n",
       "      <td>3</td>\n",
       "      <td>2</td>\n",
       "      <td>155 Sq. M.</td>\n",
       "    </tr>\n",
       "    <tr>\n",
       "      <th>...</th>\n",
       "      <td>...</td>\n",
       "      <td>...</td>\n",
       "      <td>...</td>\n",
       "      <td>...</td>\n",
       "      <td>...</td>\n",
       "      <td>...</td>\n",
       "      <td>...</td>\n",
       "    </tr>\n",
       "    <tr>\n",
       "      <th>6180</th>\n",
       "      <td>Apartment</td>\n",
       "      <td>Zizinia El Mostakbal, Mostakbal City, Cairo</td>\n",
       "      <td>5,581,440</td>\n",
       "      <td>Down payment: EGP 558,144</td>\n",
       "      <td>2</td>\n",
       "      <td>2</td>\n",
       "      <td>144 Sq. M.</td>\n",
       "    </tr>\n",
       "    <tr>\n",
       "      <th>3126</th>\n",
       "      <td>Apartment</td>\n",
       "      <td>Zizinia El Mostakbal, Mostakbal City, Cairo</td>\n",
       "      <td>6,300,000</td>\n",
       "      <td>0% Down Payment</td>\n",
       "      <td>3</td>\n",
       "      <td>3</td>\n",
       "      <td>176 Sq. M.</td>\n",
       "    </tr>\n",
       "    <tr>\n",
       "      <th>3313</th>\n",
       "      <td>Apartment</td>\n",
       "      <td>Zizinia El Mostakbal, Mostakbal City, Cairo</td>\n",
       "      <td>6,300,000</td>\n",
       "      <td>0% Down Payment</td>\n",
       "      <td>3</td>\n",
       "      <td>3</td>\n",
       "      <td>176 Sq. M.</td>\n",
       "    </tr>\n",
       "    <tr>\n",
       "      <th>6040</th>\n",
       "      <td>Apartment</td>\n",
       "      <td>Zizinia El Mostakbal, Mostakbal City, Cairo</td>\n",
       "      <td>6,950,000</td>\n",
       "      <td>Down payment: EGP 695,000</td>\n",
       "      <td>3</td>\n",
       "      <td>3</td>\n",
       "      <td>180 Sq. M.</td>\n",
       "    </tr>\n",
       "    <tr>\n",
       "      <th>6173</th>\n",
       "      <td>Apartment</td>\n",
       "      <td>Zizinia El Mostakbal, Mostakbal City, Cairo</td>\n",
       "      <td>6,950,000</td>\n",
       "      <td>Down payment: EGP 695,000</td>\n",
       "      <td>3</td>\n",
       "      <td>3</td>\n",
       "      <td>180 Sq. M.</td>\n",
       "    </tr>\n",
       "  </tbody>\n",
       "</table>\n",
       "<p>7537 rows × 7 columns</p>\n",
       "</div>"
      ],
      "text/plain": [
       "      real_estate_type                                        location  \\\n",
       "1267         Apartment  1st District, 5th Settlement, New Cairo, Cairo   \n",
       "1339         Apartment  1st District, 5th Settlement, New Cairo, Cairo   \n",
       "11512        Apartment                1st Settlement, New Cairo, Cairo   \n",
       "11543        Apartment                1st Settlement, New Cairo, Cairo   \n",
       "11896        Apartment                1st Settlement, New Cairo, Cairo   \n",
       "...                ...                                             ...   \n",
       "6180         Apartment     Zizinia El Mostakbal, Mostakbal City, Cairo   \n",
       "3126         Apartment     Zizinia El Mostakbal, Mostakbal City, Cairo   \n",
       "3313         Apartment     Zizinia El Mostakbal, Mostakbal City, Cairo   \n",
       "6040         Apartment     Zizinia El Mostakbal, Mostakbal City, Cairo   \n",
       "6173         Apartment     Zizinia El Mostakbal, Mostakbal City, Cairo   \n",
       "\n",
       "           price               down_payment bedrooms_number  bathrooms_number  \\\n",
       "1267   9,000,000                        NaN               3                 2   \n",
       "1339   9,000,000                        NaN               3                 2   \n",
       "11512  4,650,000                        NaN               3                 2   \n",
       "11543  4,650,000                        NaN               3                 2   \n",
       "11896  4,650,000                        NaN               3                 2   \n",
       "...          ...                        ...             ...               ...   \n",
       "6180   5,581,440  Down payment: EGP 558,144               2                 2   \n",
       "3126   6,300,000            0% Down Payment               3                 3   \n",
       "3313   6,300,000            0% Down Payment               3                 3   \n",
       "6040   6,950,000  Down payment: EGP 695,000               3                 3   \n",
       "6173   6,950,000  Down payment: EGP 695,000               3                 3   \n",
       "\n",
       "             area  \n",
       "1267   225 Sq. M.  \n",
       "1339   225 Sq. M.  \n",
       "11512  155 Sq. M.  \n",
       "11543  155 Sq. M.  \n",
       "11896  155 Sq. M.  \n",
       "...           ...  \n",
       "6180   144 Sq. M.  \n",
       "3126   176 Sq. M.  \n",
       "3313   176 Sq. M.  \n",
       "6040   180 Sq. M.  \n",
       "6173   180 Sq. M.  \n",
       "\n",
       "[7537 rows x 7 columns]"
      ]
     },
     "execution_count": 14,
     "metadata": {},
     "output_type": "execute_result"
    }
   ],
   "source": [
    "duplicated_rows"
   ]
  },
  {
   "cell_type": "markdown",
   "id": "39fe47d5",
   "metadata": {},
   "source": [
    "**We will remove all duplicated values but, with keeping the first occurrence values.**\n"
   ]
  },
  {
   "cell_type": "code",
   "execution_count": 15,
   "id": "431d5667",
   "metadata": {},
   "outputs": [],
   "source": [
    "df_copy = df_copy.drop_duplicates(\n",
    "    subset=['real_estate_type', 'location','price', 'bedrooms_number', 'bathrooms_number','area'],\n",
    "    keep='first'\n",
    ")"
   ]
  },
  {
   "cell_type": "code",
   "execution_count": 16,
   "id": "38820ae1",
   "metadata": {},
   "outputs": [
    {
     "data": {
      "text/plain": [
       "0"
      ]
     },
     "execution_count": 16,
     "metadata": {},
     "output_type": "execute_result"
    }
   ],
   "source": [
    "duplicated_rows = df_copy[df_copy.duplicated(\n",
    "    ['real_estate_type', 'location','price', 'bedrooms_number', 'bathrooms_number','area'],\n",
    "    keep=False\n",
    ") == True].sort_values(\n",
    "    ['real_estate_type', 'location','price', 'bedrooms_number', 'bathrooms_number','area'],\n",
    "    ascending=True\n",
    ")\n",
    "\n",
    "len(duplicated_rows) # 0"
   ]
  },
  {
   "cell_type": "code",
   "execution_count": 17,
   "id": "bd9d0d5a",
   "metadata": {},
   "outputs": [
    {
     "name": "stdout",
     "output_type": "stream",
     "text": [
      "<class 'pandas.core.frame.DataFrame'>\n",
      "Index: 7825 entries, 0 to 12383\n",
      "Data columns (total 7 columns):\n",
      " #   Column            Non-Null Count  Dtype \n",
      "---  ------            --------------  ----- \n",
      " 0   real_estate_type  7825 non-null   object\n",
      " 1   location          7825 non-null   object\n",
      " 2   price             7825 non-null   object\n",
      " 3   down_payment      3758 non-null   object\n",
      " 4   bedrooms_number   7825 non-null   object\n",
      " 5   bathrooms_number  7825 non-null   int64 \n",
      " 6   area              7825 non-null   object\n",
      "dtypes: int64(1), object(6)\n",
      "memory usage: 489.1+ KB\n"
     ]
    }
   ],
   "source": [
    "df_copy.info()"
   ]
  },
  {
   "cell_type": "code",
   "execution_count": 18,
   "id": "91e92ec4",
   "metadata": {},
   "outputs": [
    {
     "data": {
      "text/plain": [
       "7825"
      ]
     },
     "execution_count": 18,
     "metadata": {},
     "output_type": "execute_result"
    }
   ],
   "source": [
    "len(df_copy)"
   ]
  },
  {
   "cell_type": "markdown",
   "id": "e7fe9936",
   "metadata": {},
   "source": [
    "### **2.5. Columns Data Type Casting:**"
   ]
  },
  {
   "cell_type": "markdown",
   "id": "011a72e9",
   "metadata": {},
   "source": [
    "**2.5.1. Convert \"price\" Column Data Type From Object to Float:**"
   ]
  },
  {
   "cell_type": "code",
   "execution_count": 19,
   "id": "e48f9b26",
   "metadata": {},
   "outputs": [],
   "source": [
    "df_copy['price'] = df_copy['price'].str.replace(',', '').astype('float')"
   ]
  },
  {
   "cell_type": "markdown",
   "id": "beeed7e1",
   "metadata": {},
   "source": [
    "**2.5.2. Convert \"bedrooms_number\" Column Data Type From Object to Integer:**"
   ]
  },
  {
   "cell_type": "markdown",
   "id": "7e37f07b",
   "metadata": {},
   "source": [
    "**Data Cleaning Note: Normalizing \"bedrooms_number\" Column:**\n",
    "\n",
    "Before converting the column \"bedrooms_number\" from object to integer, we shoud normalize the \"Studio\" values. In real estate terminology, a \"Studio\" apartment implies 1 bedroom:\n",
    "\n",
    "- Replace all instances of \"Studio\" with \"1\" for consistency.\n",
    "\n"
   ]
  },
  {
   "cell_type": "code",
   "execution_count": 20,
   "id": "0b6b208e",
   "metadata": {},
   "outputs": [],
   "source": [
    "df_copy['bedrooms_number'] = df_copy['bedrooms_number'].str.replace('Studio', \"1\").astype('int')"
   ]
  },
  {
   "cell_type": "code",
   "execution_count": 21,
   "id": "268f45b0",
   "metadata": {},
   "outputs": [
    {
     "name": "stdout",
     "output_type": "stream",
     "text": [
      "<class 'pandas.core.frame.DataFrame'>\n",
      "Index: 7825 entries, 0 to 12383\n",
      "Data columns (total 7 columns):\n",
      " #   Column            Non-Null Count  Dtype  \n",
      "---  ------            --------------  -----  \n",
      " 0   real_estate_type  7825 non-null   object \n",
      " 1   location          7825 non-null   object \n",
      " 2   price             7825 non-null   float64\n",
      " 3   down_payment      3758 non-null   object \n",
      " 4   bedrooms_number   7825 non-null   int64  \n",
      " 5   bathrooms_number  7825 non-null   int64  \n",
      " 6   area              7825 non-null   object \n",
      "dtypes: float64(1), int64(2), object(4)\n",
      "memory usage: 489.1+ KB\n"
     ]
    }
   ],
   "source": [
    "df_copy.info()"
   ]
  },
  {
   "cell_type": "markdown",
   "id": "3e146718",
   "metadata": {},
   "source": [
    "### **2.6. Data Normalization and Standardization to Map Coded Values to Meaningful, User-Friendly Descriptions:**"
   ]
  },
  {
   "cell_type": "markdown",
   "id": "04646818",
   "metadata": {},
   "source": [
    "**2.6.1. Location Column Normalization:**"
   ]
  },
  {
   "cell_type": "markdown",
   "id": "ac6f1fe7",
   "metadata": {},
   "source": [
    "**(1) Data Cleaning Note: Splitting Location into District and Governorate:**\n",
    "\n",
    "The location column contains values where the last comma separates the administrative hierarchy: [District], [Governorate]. So we will create two separate columns depending on the last \",\" the first is the district, and the second is governorate."
   ]
  },
  {
   "cell_type": "code",
   "execution_count": 22,
   "id": "8f6764a9",
   "metadata": {},
   "outputs": [],
   "source": [
    "df_copy['governorate'] = df_copy['location'].str.rsplit(',', n=1, expand=True)[1].str.strip()"
   ]
  },
  {
   "cell_type": "code",
   "execution_count": 23,
   "id": "d1f2d97a",
   "metadata": {},
   "outputs": [],
   "source": [
    "df_copy['district'] = df_copy['location'].str.rsplit(',', n=1, expand=True)[0].str.strip()"
   ]
  },
  {
   "cell_type": "code",
   "execution_count": 24,
   "id": "6b013570",
   "metadata": {},
   "outputs": [],
   "source": [
    "df_copy['district'] = df_copy['district'].str.replace(',', ' -')"
   ]
  },
  {
   "cell_type": "markdown",
   "id": "817bbe4c",
   "metadata": {},
   "source": [
    "**(2) Remove Main Location Column:**"
   ]
  },
  {
   "cell_type": "code",
   "execution_count": 25,
   "id": "ff56d496",
   "metadata": {},
   "outputs": [],
   "source": [
    "df_copy.drop(\n",
    "    columns='location',\n",
    "    inplace=True\n",
    ")"
   ]
  },
  {
   "cell_type": "markdown",
   "id": "a29e5b5b",
   "metadata": {},
   "source": [
    "**2.6.2. Area Column Normalization:**"
   ]
  },
  {
   "cell_type": "markdown",
   "id": "b4c62adc",
   "metadata": {},
   "source": [
    "**(1) Split the value of the area from the unit (Sq. M.):**"
   ]
  },
  {
   "cell_type": "code",
   "execution_count": 26,
   "id": "93d90a2e",
   "metadata": {},
   "outputs": [],
   "source": [
    "df_copy['area_m2'] = df_copy['area'].str.split(' ', n=1, expand=True)[0].str.strip()"
   ]
  },
  {
   "cell_type": "markdown",
   "id": "15be5abf",
   "metadata": {},
   "source": [
    "**(2) Remove the Main Area Column:**"
   ]
  },
  {
   "cell_type": "code",
   "execution_count": 27,
   "id": "df3331c4",
   "metadata": {},
   "outputs": [],
   "source": [
    "df_copy.drop(\n",
    "    columns='area',\n",
    "    inplace=True\n",
    ")"
   ]
  },
  {
   "cell_type": "markdown",
   "id": "d8ee934a",
   "metadata": {},
   "source": [
    "**(3) Data Type Casting to Column Area from Object to Float:**"
   ]
  },
  {
   "cell_type": "code",
   "execution_count": 28,
   "id": "409e50f1",
   "metadata": {},
   "outputs": [],
   "source": [
    "df_copy['area_m2'] = df_copy['area_m2'].str.replace(',', '').astype('float')"
   ]
  },
  {
   "cell_type": "code",
   "execution_count": 29,
   "id": "ae7b22c5",
   "metadata": {},
   "outputs": [
    {
     "name": "stdout",
     "output_type": "stream",
     "text": [
      "<class 'pandas.core.frame.DataFrame'>\n",
      "Index: 7825 entries, 0 to 12383\n",
      "Data columns (total 8 columns):\n",
      " #   Column            Non-Null Count  Dtype  \n",
      "---  ------            --------------  -----  \n",
      " 0   real_estate_type  7825 non-null   object \n",
      " 1   price             7825 non-null   float64\n",
      " 2   down_payment      3758 non-null   object \n",
      " 3   bedrooms_number   7825 non-null   int64  \n",
      " 4   bathrooms_number  7825 non-null   int64  \n",
      " 5   governorate       7825 non-null   object \n",
      " 6   district          7825 non-null   object \n",
      " 7   area_m2           7825 non-null   float64\n",
      "dtypes: float64(2), int64(2), object(4)\n",
      "memory usage: 550.2+ KB\n"
     ]
    }
   ],
   "source": [
    "df_copy.info()"
   ]
  },
  {
   "cell_type": "markdown",
   "id": "37ed8602",
   "metadata": {},
   "source": [
    "### **2.7. Reorder Columns to Make Them More Meaningful and User-Friendly:**"
   ]
  },
  {
   "cell_type": "code",
   "execution_count": 30,
   "id": "2af2427f",
   "metadata": {},
   "outputs": [],
   "source": [
    "new_column_order = ['real_estate_type', 'district', 'governorate', 'area_m2', 'bedrooms_number', 'bathrooms_number', 'price', 'down_payment']\n",
    "df_copy = df_copy[new_column_order]"
   ]
  },
  {
   "cell_type": "code",
   "execution_count": 31,
   "id": "14577aea",
   "metadata": {},
   "outputs": [
    {
     "data": {
      "text/html": [
       "<div>\n",
       "<style scoped>\n",
       "    .dataframe tbody tr th:only-of-type {\n",
       "        vertical-align: middle;\n",
       "    }\n",
       "\n",
       "    .dataframe tbody tr th {\n",
       "        vertical-align: top;\n",
       "    }\n",
       "\n",
       "    .dataframe thead th {\n",
       "        text-align: right;\n",
       "    }\n",
       "</style>\n",
       "<table border=\"1\" class=\"dataframe\">\n",
       "  <thead>\n",
       "    <tr style=\"text-align: right;\">\n",
       "      <th></th>\n",
       "      <th>real_estate_type</th>\n",
       "      <th>district</th>\n",
       "      <th>governorate</th>\n",
       "      <th>area_m2</th>\n",
       "      <th>bedrooms_number</th>\n",
       "      <th>bathrooms_number</th>\n",
       "      <th>price</th>\n",
       "      <th>down_payment</th>\n",
       "    </tr>\n",
       "  </thead>\n",
       "  <tbody>\n",
       "    <tr>\n",
       "      <th>0</th>\n",
       "      <td>Apartment</td>\n",
       "      <td>Sodic East - New Heliopolis</td>\n",
       "      <td>Cairo</td>\n",
       "      <td>223.0</td>\n",
       "      <td>3</td>\n",
       "      <td>3</td>\n",
       "      <td>28595000.0</td>\n",
       "      <td>Down payment: EGP 2,859,500</td>\n",
       "    </tr>\n",
       "    <tr>\n",
       "      <th>1</th>\n",
       "      <td>Apartment</td>\n",
       "      <td>Shorouk City</td>\n",
       "      <td>Cairo</td>\n",
       "      <td>150.0</td>\n",
       "      <td>3</td>\n",
       "      <td>2</td>\n",
       "      <td>4200000.0</td>\n",
       "      <td>Down payment: EGP 420,000</td>\n",
       "    </tr>\n",
       "    <tr>\n",
       "      <th>2</th>\n",
       "      <td>Apartment</td>\n",
       "      <td>Beit Al Watan - 5th Settlement - New Cairo</td>\n",
       "      <td>Cairo</td>\n",
       "      <td>255.0</td>\n",
       "      <td>3</td>\n",
       "      <td>3</td>\n",
       "      <td>6880000.0</td>\n",
       "      <td>NaN</td>\n",
       "    </tr>\n",
       "    <tr>\n",
       "      <th>3</th>\n",
       "      <td>Apartment</td>\n",
       "      <td>Mountain View iCity Compound - 5th Settlement ...</td>\n",
       "      <td>Cairo</td>\n",
       "      <td>225.0</td>\n",
       "      <td>3</td>\n",
       "      <td>4</td>\n",
       "      <td>9000000.0</td>\n",
       "      <td>NaN</td>\n",
       "    </tr>\n",
       "    <tr>\n",
       "      <th>4</th>\n",
       "      <td>Apartment</td>\n",
       "      <td>Galleria Moon Valley Compound - 5th Settlement...</td>\n",
       "      <td>Cairo</td>\n",
       "      <td>161.0</td>\n",
       "      <td>3</td>\n",
       "      <td>3</td>\n",
       "      <td>15200000.0</td>\n",
       "      <td>Down payment: EGP 1,520,000</td>\n",
       "    </tr>\n",
       "    <tr>\n",
       "      <th>...</th>\n",
       "      <td>...</td>\n",
       "      <td>...</td>\n",
       "      <td>...</td>\n",
       "      <td>...</td>\n",
       "      <td>...</td>\n",
       "      <td>...</td>\n",
       "      <td>...</td>\n",
       "      <td>...</td>\n",
       "    </tr>\n",
       "    <tr>\n",
       "      <th>12379</th>\n",
       "      <td>Apartment</td>\n",
       "      <td>Sarai - Mostakbal City</td>\n",
       "      <td>Cairo</td>\n",
       "      <td>122.0</td>\n",
       "      <td>2</td>\n",
       "      <td>2</td>\n",
       "      <td>3950000.0</td>\n",
       "      <td>NaN</td>\n",
       "    </tr>\n",
       "    <tr>\n",
       "      <th>12380</th>\n",
       "      <td>Apartment</td>\n",
       "      <td>IL Bosco - New Capital City</td>\n",
       "      <td>Cairo</td>\n",
       "      <td>150.0</td>\n",
       "      <td>3</td>\n",
       "      <td>2</td>\n",
       "      <td>5650000.0</td>\n",
       "      <td>NaN</td>\n",
       "    </tr>\n",
       "    <tr>\n",
       "      <th>12381</th>\n",
       "      <td>Apartment</td>\n",
       "      <td>El Banafseg 5 - 1st Settlement - New Cairo</td>\n",
       "      <td>Cairo</td>\n",
       "      <td>200.0</td>\n",
       "      <td>3</td>\n",
       "      <td>3</td>\n",
       "      <td>8500000.0</td>\n",
       "      <td>NaN</td>\n",
       "    </tr>\n",
       "    <tr>\n",
       "      <th>12382</th>\n",
       "      <td>Apartment</td>\n",
       "      <td>Fifth Square Compound - 5th Settlement - New C...</td>\n",
       "      <td>Cairo</td>\n",
       "      <td>225.0</td>\n",
       "      <td>3</td>\n",
       "      <td>3</td>\n",
       "      <td>8500000.0</td>\n",
       "      <td>NaN</td>\n",
       "    </tr>\n",
       "    <tr>\n",
       "      <th>12383</th>\n",
       "      <td>Apartment</td>\n",
       "      <td>Gharb Golf - Katameya</td>\n",
       "      <td>Cairo</td>\n",
       "      <td>160.0</td>\n",
       "      <td>3</td>\n",
       "      <td>2</td>\n",
       "      <td>5000000.0</td>\n",
       "      <td>NaN</td>\n",
       "    </tr>\n",
       "  </tbody>\n",
       "</table>\n",
       "<p>7825 rows × 8 columns</p>\n",
       "</div>"
      ],
      "text/plain": [
       "      real_estate_type                                           district  \\\n",
       "0            Apartment                        Sodic East - New Heliopolis   \n",
       "1            Apartment                                       Shorouk City   \n",
       "2            Apartment         Beit Al Watan - 5th Settlement - New Cairo   \n",
       "3            Apartment  Mountain View iCity Compound - 5th Settlement ...   \n",
       "4            Apartment  Galleria Moon Valley Compound - 5th Settlement...   \n",
       "...                ...                                                ...   \n",
       "12379        Apartment                             Sarai - Mostakbal City   \n",
       "12380        Apartment                        IL Bosco - New Capital City   \n",
       "12381        Apartment         El Banafseg 5 - 1st Settlement - New Cairo   \n",
       "12382        Apartment  Fifth Square Compound - 5th Settlement - New C...   \n",
       "12383        Apartment                              Gharb Golf - Katameya   \n",
       "\n",
       "      governorate  area_m2  bedrooms_number  bathrooms_number       price  \\\n",
       "0           Cairo    223.0                3                 3  28595000.0   \n",
       "1           Cairo    150.0                3                 2   4200000.0   \n",
       "2           Cairo    255.0                3                 3   6880000.0   \n",
       "3           Cairo    225.0                3                 4   9000000.0   \n",
       "4           Cairo    161.0                3                 3  15200000.0   \n",
       "...           ...      ...              ...               ...         ...   \n",
       "12379       Cairo    122.0                2                 2   3950000.0   \n",
       "12380       Cairo    150.0                3                 2   5650000.0   \n",
       "12381       Cairo    200.0                3                 3   8500000.0   \n",
       "12382       Cairo    225.0                3                 3   8500000.0   \n",
       "12383       Cairo    160.0                3                 2   5000000.0   \n",
       "\n",
       "                      down_payment  \n",
       "0      Down payment: EGP 2,859,500  \n",
       "1        Down payment: EGP 420,000  \n",
       "2                              NaN  \n",
       "3                              NaN  \n",
       "4      Down payment: EGP 1,520,000  \n",
       "...                            ...  \n",
       "12379                          NaN  \n",
       "12380                          NaN  \n",
       "12381                          NaN  \n",
       "12382                          NaN  \n",
       "12383                          NaN  \n",
       "\n",
       "[7825 rows x 8 columns]"
      ]
     },
     "execution_count": 31,
     "metadata": {},
     "output_type": "execute_result"
    }
   ],
   "source": [
    "df_copy"
   ]
  },
  {
   "cell_type": "markdown",
   "id": "fa61902b",
   "metadata": {},
   "source": [
    "### **2.8. Handling Outlier Values:**"
   ]
  },
  {
   "cell_type": "code",
   "execution_count": 32,
   "id": "f0158531",
   "metadata": {},
   "outputs": [],
   "source": [
    "numerical_columns = ['price', 'area_m2', 'bedrooms_number', 'bathrooms_number']\n",
    "\n",
    "def handle_outlier(columns):\n",
    "    for column in columns:\n",
    "            min_col = np.min(df_copy[column])\n",
    "            max_col = np.max(df_copy[column])\n",
    "\n",
    "            col_Q1 = np.quantile(df_copy[column], 0.25) \n",
    "            col_Q2 = np.quantile(df_copy[column], 0.50)\n",
    "            col_mean = df_copy[column].mean()\n",
    "            col_Q3 = np.quantile(df_copy[column], 0.75)\n",
    "\n",
    "            col_IQR = col_Q3 - col_Q1\n",
    "\n",
    "            col_lower_boundary = col_Q1 - (1.5 * col_IQR)\n",
    "            col_upper_boundary = col_Q3 + (1.5 * col_IQR)\n",
    "\n",
    "            print(f'{str(column).capitalize()} Five Number Summary:')\n",
    "            print(f'{str(column).capitalize()} Minimum Value = {min_col}')\n",
    "            print(f'{str(column).capitalize()} Lower Boundary = {col_lower_boundary}')\n",
    "            print(f'{str(column).capitalize()} Q1 Value = {col_Q1}')\n",
    "            print(f'{str(column).capitalize()} Median (Q2) Value = {col_Q2}')\n",
    "            print(f'{str(column).capitalize()} Mean (Average) Value = {col_mean}')\n",
    "            print(f'{str(column).capitalize()} Q3 Value = {col_Q3}')\n",
    "            print(f'{str(column).capitalize()} Upper Boundary = {col_upper_boundary}')\n",
    "            print(f'{str(column).capitalize()} Maximum Value = {max_col}')\n",
    "            print('-------------------------------------------------------------------')"
   ]
  },
  {
   "cell_type": "code",
   "execution_count": 33,
   "id": "6713753b",
   "metadata": {},
   "outputs": [
    {
     "name": "stdout",
     "output_type": "stream",
     "text": [
      "Price Five Number Summary:\n",
      "Price Minimum Value = 95000.0\n",
      "Price Lower Boundary = -2530642.5\n",
      "Price Q1 Value = 4987743.0\n",
      "Price Median (Q2) Value = 7084000.0\n",
      "Price Mean (Average) Value = 8284821.001789138\n",
      "Price Q3 Value = 10000000.0\n",
      "Price Upper Boundary = 17518385.5\n",
      "Price Maximum Value = 120000000.0\n",
      "-------------------------------------------------------------------\n",
      "Area_m2 Five Number Summary:\n",
      "Area_m2 Minimum Value = 1.0\n",
      "Area_m2 Lower Boundary = 53.5\n",
      "Area_m2 Q1 Value = 130.0\n",
      "Area_m2 Median (Q2) Value = 156.0\n",
      "Area_m2 Mean (Average) Value = 160.92332268370606\n",
      "Area_m2 Q3 Value = 181.0\n",
      "Area_m2 Upper Boundary = 257.5\n",
      "Area_m2 Maximum Value = 9658.0\n",
      "-------------------------------------------------------------------\n",
      "Bedrooms_number Five Number Summary:\n",
      "Bedrooms_number Minimum Value = 1\n",
      "Bedrooms_number Lower Boundary = 0.5\n",
      "Bedrooms_number Q1 Value = 2.0\n",
      "Bedrooms_number Median (Q2) Value = 3.0\n",
      "Bedrooms_number Mean (Average) Value = 2.70888178913738\n",
      "Bedrooms_number Q3 Value = 3.0\n",
      "Bedrooms_number Upper Boundary = 4.5\n",
      "Bedrooms_number Maximum Value = 9\n",
      "-------------------------------------------------------------------\n",
      "Bathrooms_number Five Number Summary:\n",
      "Bathrooms_number Minimum Value = 1\n",
      "Bathrooms_number Lower Boundary = 0.5\n",
      "Bathrooms_number Q1 Value = 2.0\n",
      "Bathrooms_number Median (Q2) Value = 2.0\n",
      "Bathrooms_number Mean (Average) Value = 2.3607667731629394\n",
      "Bathrooms_number Q3 Value = 3.0\n",
      "Bathrooms_number Upper Boundary = 4.5\n",
      "Bathrooms_number Maximum Value = 7\n",
      "-------------------------------------------------------------------\n"
     ]
    }
   ],
   "source": [
    "handle_outlier(numerical_columns)"
   ]
  },
  {
   "cell_type": "markdown",
   "id": "257a9673",
   "metadata": {},
   "source": [
    "**2.8.1. Identifying Outliers in Real Estate Prices**  "
   ]
  },
  {
   "cell_type": "markdown",
   "id": "939b77b8",
   "metadata": {},
   "source": [
    "**Price Box Plot Before Handle Outliers:**"
   ]
  },
  {
   "cell_type": "code",
   "execution_count": 34,
   "id": "8b37a179",
   "metadata": {},
   "outputs": [
    {
     "data": {
      "text/plain": [
       "Text(0.5, 0, 'Price')"
      ]
     },
     "execution_count": 34,
     "metadata": {},
     "output_type": "execute_result"
    },
    {
     "data": {
      "image/png": "[encoded data removed]",
      "text/plain": [
       "<Figure size 2000x400 with 1 Axes>"
      ]
     },
     "metadata": {},
     "output_type": "display_data"
    }
   ],
   "source": [
    "plt.figure(figsize=(20,4))\n",
    "plt.boxplot(\n",
    "    df_copy['price'],\n",
    "    vert=False\n",
    ")\n",
    "plt.title('Price Column Outlier Detection')\n",
    "plt.yticks([])\n",
    "plt.gca().xaxis.set_major_formatter(plt.FuncFormatter(lambda x, position: (f'{int(x / 1000000)}M')))\n",
    "plt.gca().axvline(np.quantile(df_copy['price'], 0.25), linestyle='--', color='green', label='Q1')\n",
    "plt.gca().axvline(np.quantile(df_copy['price'], 0.50), linestyle='--', color='red', label='Median')\n",
    "plt.gca().axvline((df_copy['price'].mean()), linestyle='--', color='black', label='Mean')\n",
    "plt.gca().axvline(np.quantile(df_copy['price'], 0.75), linestyle='--', color='blue', label='Q3')\n",
    "plt.legend(loc='best')\n",
    "plt.xlabel('Price')"
   ]
  },
  {
   "cell_type": "markdown",
   "id": "2b483786",
   "metadata": {},
   "source": [
    "Based on the **Five-Number Summary** of **price** column, we can detect outliers using the **IQR (Interquartile Range) Method** and **Box Plot**:\n",
    "\n",
    "- Since the **minimum price is 95,000** (which is above the lower boundary), **no lower outliers** exist.  \n",
    "- Any price **above 17,518,385.5** is considered an **upper outlier**. The **maximum price is 120,000,000**, which is **far beyond the upper boundary**, confirming significant, so we will delete the values which upper than the **upper boundary = 17,518,385.5**. "
   ]
  },
  {
   "cell_type": "code",
   "execution_count": 35,
   "id": "e0c967fe",
   "metadata": {},
   "outputs": [],
   "source": [
    "df_copy = df_copy[df_copy['price'] <= 17600000]"
   ]
  },
  {
   "cell_type": "markdown",
   "id": "a1493120",
   "metadata": {},
   "source": [
    "**Price Box Plot After Handle Outliers:**"
   ]
  },
  {
   "cell_type": "code",
   "execution_count": 36,
   "id": "5801188d",
   "metadata": {},
   "outputs": [
    {
     "data": {
      "text/plain": [
       "Text(0.5, 0, 'Price')"
      ]
     },
     "execution_count": 36,
     "metadata": {},
     "output_type": "execute_result"
    },
    {
     "data": {
      "image/png": "[encoded data removed]",
      "text/plain": [
       "<Figure size 2000x400 with 1 Axes>"
      ]
     },
     "metadata": {},
     "output_type": "display_data"
    }
   ],
   "source": [
    "plt.figure(figsize=(20,4))\n",
    "plt.boxplot(\n",
    "    df_copy['price'],\n",
    "    vert=False\n",
    ")\n",
    "plt.title('Price Column Outlier Detection')\n",
    "plt.yticks([])\n",
    "plt.gca().xaxis.set_major_formatter(plt.FuncFormatter(lambda x, position: (f'{int(x / 1000000)}M')))\n",
    "plt.gca().axvline(np.quantile(df_copy['price'], 0.25), linestyle='--', color='green', label='Q1')\n",
    "plt.gca().axvline(np.quantile(df_copy['price'], 0.50), linestyle='--', color='red', label='Median')\n",
    "plt.gca().axvline((df_copy['price'].mean()), linestyle='--', color='black', label='Mean')\n",
    "plt.gca().axvline(np.quantile(df_copy['price'], 0.75), linestyle='--', color='blue', label='Q3')\n",
    "plt.legend(loc='best')\n",
    "plt.xlabel('Price')"
   ]
  },
  {
   "cell_type": "code",
   "execution_count": 37,
   "id": "02c2a165",
   "metadata": {},
   "outputs": [
    {
     "data": {
      "text/plain": [
       "7442"
      ]
     },
     "execution_count": 37,
     "metadata": {},
     "output_type": "execute_result"
    }
   ],
   "source": [
    "len(df_copy)"
   ]
  },
  {
   "cell_type": "code",
   "execution_count": 38,
   "id": "ed0e698e",
   "metadata": {},
   "outputs": [
    {
     "name": "stdout",
     "output_type": "stream",
     "text": [
      "Price Five Number Summary:\n",
      "Price Minimum Value = 95000.0\n",
      "Price Lower Boundary = -2104468.125\n",
      "Price Q1 Value = 4858212.75\n",
      "Price Median (Q2) Value = 6938000.0\n",
      "Price Mean (Average) Value = 7512768.933619995\n",
      "Price Q3 Value = 9500000.0\n",
      "Price Upper Boundary = 16462680.875\n",
      "Price Maximum Value = 17600000.0\n",
      "-------------------------------------------------------------------\n",
      "Area_m2 Five Number Summary:\n",
      "Area_m2 Minimum Value = 1.0\n",
      "Area_m2 Lower Boundary = 54.0\n",
      "Area_m2 Q1 Value = 129.0\n",
      "Area_m2 Median (Q2) Value = 155.0\n",
      "Area_m2 Mean (Average) Value = 157.8294813222252\n",
      "Area_m2 Q3 Value = 179.0\n",
      "Area_m2 Upper Boundary = 254.0\n",
      "Area_m2 Maximum Value = 9658.0\n",
      "-------------------------------------------------------------------\n",
      "Bedrooms_number Five Number Summary:\n",
      "Bedrooms_number Minimum Value = 1\n",
      "Bedrooms_number Lower Boundary = 0.5\n",
      "Bedrooms_number Q1 Value = 2.0\n",
      "Bedrooms_number Median (Q2) Value = 3.0\n",
      "Bedrooms_number Mean (Average) Value = 2.682746573501747\n",
      "Bedrooms_number Q3 Value = 3.0\n",
      "Bedrooms_number Upper Boundary = 4.5\n",
      "Bedrooms_number Maximum Value = 9\n",
      "-------------------------------------------------------------------\n",
      "Bathrooms_number Five Number Summary:\n",
      "Bathrooms_number Minimum Value = 1\n",
      "Bathrooms_number Lower Boundary = 0.5\n",
      "Bathrooms_number Q1 Value = 2.0\n",
      "Bathrooms_number Median (Q2) Value = 2.0\n",
      "Bathrooms_number Mean (Average) Value = 2.3263907551733407\n",
      "Bathrooms_number Q3 Value = 3.0\n",
      "Bathrooms_number Upper Boundary = 4.5\n",
      "Bathrooms_number Maximum Value = 7\n",
      "-------------------------------------------------------------------\n"
     ]
    }
   ],
   "source": [
    "handle_outlier(numerical_columns)"
   ]
  },
  {
   "cell_type": "markdown",
   "id": "97feb2aa",
   "metadata": {},
   "source": [
    "**2.8.2. Identifying Outliers in Real Estate Area**  "
   ]
  },
  {
   "cell_type": "markdown",
   "id": "daf94621",
   "metadata": {},
   "source": [
    "**Area Box Plot Before Handle Outliers:**"
   ]
  },
  {
   "cell_type": "code",
   "execution_count": 39,
   "id": "760d0373",
   "metadata": {},
   "outputs": [
    {
     "data": {
      "text/plain": [
       "Text(0.5, 0, 'Area')"
      ]
     },
     "execution_count": 39,
     "metadata": {},
     "output_type": "execute_result"
    },
    {
     "data": {
      "image/png": "[encoded data removed]",
      "text/plain": [
       "<Figure size 2000x400 with 1 Axes>"
      ]
     },
     "metadata": {},
     "output_type": "display_data"
    }
   ],
   "source": [
    "plt.figure(figsize=(20,4))\n",
    "plt.boxplot(\n",
    "    df_copy['area_m2'],\n",
    "    vert=False\n",
    ")\n",
    "plt.title('Area Column Outlier Detection')\n",
    "plt.yticks([])\n",
    "plt.gca().xaxis.set_major_formatter(plt.FuncFormatter(lambda x, position: (f'{int(x)}')))\n",
    "plt.gca().axvline(np.quantile(df_copy['area_m2'], 0.25), linestyle='--', color='green', label='Q1')\n",
    "plt.gca().axvline(np.quantile(df_copy['area_m2'], 0.50), linestyle='--', color='red', label='Median')\n",
    "plt.gca().axvline((df_copy['area_m2'].mean()), linestyle='--', color='black', label='Mean')\n",
    "plt.gca().axvline(np.quantile(df_copy['area_m2'], 0.75), linestyle='--', color='blue', label='Q3')\n",
    "plt.legend(loc='best')\n",
    "plt.xlabel('Area')"
   ]
  },
  {
   "cell_type": "markdown",
   "id": "65f86276",
   "metadata": {},
   "source": [
    "Based on the **Five-Number Summary** of **area_m2** column, we can detect outliers using the **IQR (Interquartile Range) Method** and **Box Plot**:\n",
    "\n",
    "- Since the **minimum area is 1 m²** (which is less the lower boundary), values **< 54 m²** are likely invalid values and make the analysis illogical, so we will remove values that are less than the **upper boundary = 54 m²**.  \n",
    "- Any area **above 254.0 m²** is considered an **upper outlier**. The **maximum area is 9658.0 m2**, which is **far beyond the upper boundary**, confirming significant outliers, so we will delete the values which upper than the **upper boundary = 254 m²**."
   ]
  },
  {
   "cell_type": "code",
   "execution_count": 40,
   "id": "14a63f9e",
   "metadata": {},
   "outputs": [],
   "source": [
    "df_copy = df_copy[(df_copy['area_m2'] >= 54) & (df_copy['area_m2'] <= 254)]"
   ]
  },
  {
   "cell_type": "markdown",
   "id": "6129819a",
   "metadata": {},
   "source": [
    "**Area Box Plot After Handle Outliers:**"
   ]
  },
  {
   "cell_type": "code",
   "execution_count": 41,
   "id": "888d71d2",
   "metadata": {},
   "outputs": [
    {
     "data": {
      "text/plain": [
       "Text(0.5, 0, 'Area')"
      ]
     },
     "execution_count": 41,
     "metadata": {},
     "output_type": "execute_result"
    },
    {
     "data": {
      "image/png": "[encoded data removed]",
      "text/plain": [
       "<Figure size 2000x400 with 1 Axes>"
      ]
     },
     "metadata": {},
     "output_type": "display_data"
    }
   ],
   "source": [
    "plt.figure(figsize=(20,4))\n",
    "plt.boxplot(\n",
    "    df_copy['area_m2'],\n",
    "    vert=False\n",
    ")\n",
    "plt.title('Area Column Outlier Detection')\n",
    "plt.yticks([])\n",
    "plt.gca().xaxis.set_major_formatter(plt.FuncFormatter(lambda x, position: (f'{int(x)}')))\n",
    "plt.gca().axvline(np.quantile(df_copy['area_m2'], 0.25), linestyle='--', color='green', label='Q1')\n",
    "plt.gca().axvline(np.quantile(df_copy['area_m2'], 0.50), linestyle='--', color='red', label='Median')\n",
    "plt.gca().axvline((df_copy['area_m2'].mean()), linestyle='--', color='black', label='Mean')\n",
    "plt.gca().axvline(np.quantile(df_copy['area_m2'], 0.75), linestyle='--', color='blue', label='Q3')\n",
    "plt.legend(loc='best')\n",
    "plt.xlabel('Area')"
   ]
  },
  {
   "cell_type": "code",
   "execution_count": 42,
   "id": "910e7865",
   "metadata": {},
   "outputs": [
    {
     "data": {
      "text/plain": [
       "7160"
      ]
     },
     "execution_count": 42,
     "metadata": {},
     "output_type": "execute_result"
    }
   ],
   "source": [
    "len(df_copy)"
   ]
  },
  {
   "cell_type": "code",
   "execution_count": 43,
   "id": "836162f9",
   "metadata": {},
   "outputs": [
    {
     "name": "stdout",
     "output_type": "stream",
     "text": [
      "Price Five Number Summary:\n",
      "Price Minimum Value = 95000.0\n",
      "Price Lower Boundary = -2100000.0\n",
      "Price Q1 Value = 4800000.0\n",
      "Price Median (Q2) Value = 6850000.0\n",
      "Price Mean (Average) Value = 7450767.069413408\n",
      "Price Q3 Value = 9400000.0\n",
      "Price Upper Boundary = 16300000.0\n",
      "Price Maximum Value = 17600000.0\n",
      "-------------------------------------------------------------------\n",
      "Area_m2 Five Number Summary:\n",
      "Area_m2 Minimum Value = 54.0\n",
      "Area_m2 Lower Boundary = 57.5\n",
      "Area_m2 Q1 Value = 128.0\n",
      "Area_m2 Median (Q2) Value = 154.0\n",
      "Area_m2 Mean (Average) Value = 152.11438547486034\n",
      "Area_m2 Q3 Value = 175.0\n",
      "Area_m2 Upper Boundary = 245.5\n",
      "Area_m2 Maximum Value = 254.0\n",
      "-------------------------------------------------------------------\n",
      "Bedrooms_number Five Number Summary:\n",
      "Bedrooms_number Minimum Value = 1\n",
      "Bedrooms_number Lower Boundary = 0.5\n",
      "Bedrooms_number Q1 Value = 2.0\n",
      "Bedrooms_number Median (Q2) Value = 3.0\n",
      "Bedrooms_number Mean (Average) Value = 2.659776536312849\n",
      "Bedrooms_number Q3 Value = 3.0\n",
      "Bedrooms_number Upper Boundary = 4.5\n",
      "Bedrooms_number Maximum Value = 5\n",
      "-------------------------------------------------------------------\n",
      "Bathrooms_number Five Number Summary:\n",
      "Bathrooms_number Minimum Value = 1\n",
      "Bathrooms_number Lower Boundary = 0.5\n",
      "Bathrooms_number Q1 Value = 2.0\n",
      "Bathrooms_number Median (Q2) Value = 2.0\n",
      "Bathrooms_number Mean (Average) Value = 2.3060055865921787\n",
      "Bathrooms_number Q3 Value = 3.0\n",
      "Bathrooms_number Upper Boundary = 4.5\n",
      "Bathrooms_number Maximum Value = 7\n",
      "-------------------------------------------------------------------\n"
     ]
    }
   ],
   "source": [
    "handle_outlier(numerical_columns)"
   ]
  },
  {
   "cell_type": "markdown",
   "id": "003025a2",
   "metadata": {},
   "source": [
    "**2.8.3. Identifying Outliers in Real Estate Bedrooms Number**  "
   ]
  },
  {
   "cell_type": "markdown",
   "id": "0856f70d",
   "metadata": {},
   "source": [
    "**Bedrooms Number Box Plot Before Handle Outliers:**"
   ]
  },
  {
   "cell_type": "code",
   "execution_count": 44,
   "id": "be16df4e",
   "metadata": {},
   "outputs": [
    {
     "data": {
      "text/plain": [
       "Text(0.5, 0, 'Bedrooms')"
      ]
     },
     "execution_count": 44,
     "metadata": {},
     "output_type": "execute_result"
    },
    {
     "data": {
      "image/png": "[encoded data removed]",
      "text/plain": [
       "<Figure size 2000x400 with 1 Axes>"
      ]
     },
     "metadata": {},
     "output_type": "display_data"
    }
   ],
   "source": [
    "plt.figure(figsize=(20,4))\n",
    "plt.boxplot(\n",
    "    df_copy['bedrooms_number'],\n",
    "    vert=False\n",
    ")\n",
    "plt.title('Bedrooms Column Outlier Detection')\n",
    "plt.yticks([])\n",
    "plt.gca().xaxis.set_major_formatter(plt.FuncFormatter(lambda x, position: (f'{int(x)}')))\n",
    "plt.gca().axvline(np.quantile(df_copy['bedrooms_number'], 0.25), linestyle='--', color='green', label='Q1')\n",
    "plt.gca().axvline(np.quantile(df_copy['bedrooms_number'], 0.50), linestyle='--', color='red', label='Median')\n",
    "plt.gca().axvline((df_copy['bedrooms_number'].mean()), linestyle='--', color='black', label='Mean')\n",
    "plt.gca().axvline(np.quantile(df_copy['bedrooms_number'], 0.75), linestyle='--', color='blue', label='Q3')\n",
    "plt.legend(loc='best')\n",
    "plt.xlabel('Bedrooms')"
   ]
  },
  {
   "cell_type": "markdown",
   "id": "a68aa80c",
   "metadata": {},
   "source": [
    "Based on the **Five-Number Summary** of **bedrooms_number** column, we can detect outliers using the **IQR (Interquartile Range) Method** and **Box Plot**:\n",
    "\n",
    "- Since the **minimum number is 1** (which is above the lower boundary), **no lower outliers** exist.  \n",
    "- Any numbers **above 4** is considered an **upper outlier**. The **maximum number is 5**, so we will delete the values which upper than the **upper boundary = 4.5**. "
   ]
  },
  {
   "cell_type": "code",
   "execution_count": 45,
   "id": "a54cde74",
   "metadata": {},
   "outputs": [],
   "source": [
    "df_copy= df_copy[df_copy['bedrooms_number'] <= 4.5]"
   ]
  },
  {
   "cell_type": "code",
   "execution_count": 46,
   "id": "1d5b0aaa",
   "metadata": {},
   "outputs": [
    {
     "data": {
      "text/plain": [
       "7155"
      ]
     },
     "execution_count": 46,
     "metadata": {},
     "output_type": "execute_result"
    }
   ],
   "source": [
    "len(df_copy)"
   ]
  },
  {
   "cell_type": "markdown",
   "id": "19456b62",
   "metadata": {},
   "source": [
    "**Bedrooms Number Box Plot After Handle Outliers:**"
   ]
  },
  {
   "cell_type": "code",
   "execution_count": 47,
   "id": "d5d06968",
   "metadata": {},
   "outputs": [
    {
     "data": {
      "text/plain": [
       "Text(0.5, 0, 'Bedrooms')"
      ]
     },
     "execution_count": 47,
     "metadata": {},
     "output_type": "execute_result"
    },
    {
     "data": {
      "image/png": "[encoded data removed]",
      "text/plain": [
       "<Figure size 2000x400 with 1 Axes>"
      ]
     },
     "metadata": {},
     "output_type": "display_data"
    }
   ],
   "source": [
    "plt.figure(figsize=(20,4))\n",
    "plt.boxplot(\n",
    "    df_copy['bedrooms_number'],\n",
    "    vert=False\n",
    ")\n",
    "plt.title('Bedrooms Column Outlier Detection')\n",
    "plt.yticks([])\n",
    "plt.gca().xaxis.set_major_formatter(plt.FuncFormatter(lambda x, position: (f'{int(x)}')))\n",
    "plt.gca().axvline(np.quantile(df_copy['bedrooms_number'], 0.25), linestyle='--', color='green', label='Q1')\n",
    "plt.gca().axvline(np.quantile(df_copy['bedrooms_number'], 0.50), linestyle='--', color='red', label='Median')\n",
    "plt.gca().axvline((df_copy['bedrooms_number'].mean()), linestyle='--', color='black', label='Mean')\n",
    "plt.gca().axvline(np.quantile(df_copy['bedrooms_number'], 0.75), linestyle='--', color='blue', label='Q3')\n",
    "plt.legend(loc='best')\n",
    "plt.xlabel('Bedrooms')"
   ]
  },
  {
   "cell_type": "markdown",
   "id": "94348334",
   "metadata": {},
   "source": [
    "**2.8.4. Identifying Outliers in Real Estate Bathrooms Number**  "
   ]
  },
  {
   "cell_type": "code",
   "execution_count": 48,
   "id": "8c2bb66b",
   "metadata": {},
   "outputs": [
    {
     "name": "stdout",
     "output_type": "stream",
     "text": [
      "Price Five Number Summary:\n",
      "Price Minimum Value = 95000.0\n",
      "Price Lower Boundary = -2100000.0\n",
      "Price Q1 Value = 4800000.0\n",
      "Price Median (Q2) Value = 6850000.0\n",
      "Price Mean (Average) Value = 7450104.395108316\n",
      "Price Q3 Value = 9400000.0\n",
      "Price Upper Boundary = 16300000.0\n",
      "Price Maximum Value = 17600000.0\n",
      "-------------------------------------------------------------------\n",
      "Area_m2 Five Number Summary:\n",
      "Area_m2 Minimum Value = 54.0\n",
      "Area_m2 Lower Boundary = 57.5\n",
      "Area_m2 Q1 Value = 128.0\n",
      "Area_m2 Median (Q2) Value = 154.0\n",
      "Area_m2 Mean (Average) Value = 152.07491264849756\n",
      "Area_m2 Q3 Value = 175.0\n",
      "Area_m2 Upper Boundary = 245.5\n",
      "Area_m2 Maximum Value = 254.0\n",
      "-------------------------------------------------------------------\n",
      "Bedrooms_number Five Number Summary:\n",
      "Bedrooms_number Minimum Value = 1\n",
      "Bedrooms_number Lower Boundary = 0.5\n",
      "Bedrooms_number Q1 Value = 2.0\n",
      "Bedrooms_number Median (Q2) Value = 3.0\n",
      "Bedrooms_number Mean (Average) Value = 2.6581411600279523\n",
      "Bedrooms_number Q3 Value = 3.0\n",
      "Bedrooms_number Upper Boundary = 4.5\n",
      "Bedrooms_number Maximum Value = 4\n",
      "-------------------------------------------------------------------\n",
      "Bathrooms_number Five Number Summary:\n",
      "Bathrooms_number Minimum Value = 1\n",
      "Bathrooms_number Lower Boundary = 0.5\n",
      "Bathrooms_number Q1 Value = 2.0\n",
      "Bathrooms_number Median (Q2) Value = 2.0\n",
      "Bathrooms_number Mean (Average) Value = 2.3052410901467506\n",
      "Bathrooms_number Q3 Value = 3.0\n",
      "Bathrooms_number Upper Boundary = 4.5\n",
      "Bathrooms_number Maximum Value = 7\n",
      "-------------------------------------------------------------------\n"
     ]
    }
   ],
   "source": [
    "handle_outlier(numerical_columns)"
   ]
  },
  {
   "cell_type": "markdown",
   "id": "71f336c2",
   "metadata": {},
   "source": [
    "**Bathrooms Number Box Plot Before Handle Outliers:**"
   ]
  },
  {
   "cell_type": "code",
   "execution_count": 49,
   "id": "229c4407",
   "metadata": {},
   "outputs": [
    {
     "data": {
      "text/plain": [
       "Text(0.5, 0, 'Bathrooms')"
      ]
     },
     "execution_count": 49,
     "metadata": {},
     "output_type": "execute_result"
    },
    {
     "data": {
      "image/png": "[encoded data removed]",
      "text/plain": [
       "<Figure size 2000x400 with 1 Axes>"
      ]
     },
     "metadata": {},
     "output_type": "display_data"
    }
   ],
   "source": [
    "plt.figure(figsize=(20,4))\n",
    "plt.boxplot(\n",
    "    df_copy['bathrooms_number'],\n",
    "    vert=False\n",
    ")\n",
    "plt.title('Bathrooms Column Outlier Detection')\n",
    "plt.yticks([])\n",
    "plt.gca().xaxis.set_major_formatter(plt.FuncFormatter(lambda x, position: (f'{int(x)}')))\n",
    "plt.gca().axvline(np.quantile(df_copy['bathrooms_number'], 0.25), linestyle='--', color='green', label='Q1')\n",
    "plt.gca().axvline(np.quantile(df_copy['bathrooms_number'], 0.50), linestyle='--', color='red', label='Median')\n",
    "plt.gca().axvline((df_copy['bathrooms_number'].mean()), linestyle='--', color='black', label='Mean')\n",
    "plt.gca().axvline(np.quantile(df_copy['bathrooms_number'], 0.75), linestyle='--', color='blue', label='Q3')\n",
    "plt.legend(loc='best')\n",
    "plt.xlabel('Bathrooms')"
   ]
  },
  {
   "cell_type": "markdown",
   "id": "c514011a",
   "metadata": {},
   "source": [
    "Based on the **Five-Number Summary** of **bathrooms_number** column, we can detect outliers using the **IQR (Interquartile Range) Method** and **Box Plot**:\n",
    "\n",
    "- Since the **minimum number is 1** (which is above the lower boundary), **no lower outliers** exist.  \n",
    "- Any numbers **above 4.5** is considered an **upper outlier**. The **maximum number is 7**, so we will delete the values which upper than the **upper boundary = 4.5**. "
   ]
  },
  {
   "cell_type": "code",
   "execution_count": 50,
   "id": "84564356",
   "metadata": {},
   "outputs": [],
   "source": [
    "df_copy = df_copy[df_copy['bathrooms_number'] <= 4.5]"
   ]
  },
  {
   "cell_type": "code",
   "execution_count": 51,
   "id": "b5667009",
   "metadata": {},
   "outputs": [
    {
     "data": {
      "text/plain": [
       "7149"
      ]
     },
     "execution_count": 51,
     "metadata": {},
     "output_type": "execute_result"
    }
   ],
   "source": [
    "len(df_copy)"
   ]
  },
  {
   "cell_type": "markdown",
   "id": "b7a7194c",
   "metadata": {},
   "source": [
    "**Bathrooms Number Box Plot After Handle Outliers:**"
   ]
  },
  {
   "cell_type": "code",
   "execution_count": 52,
   "id": "3c8c932a",
   "metadata": {},
   "outputs": [
    {
     "data": {
      "text/plain": [
       "Text(0.5, 0, 'Bathrooms')"
      ]
     },
     "execution_count": 52,
     "metadata": {},
     "output_type": "execute_result"
    },
    {
     "data": {
      "image/png": "[encoded data removed]",
      "text/plain": [
       "<Figure size 2000x400 with 1 Axes>"
      ]
     },
     "metadata": {},
     "output_type": "display_data"
    }
   ],
   "source": [
    "plt.figure(figsize=(20,4))\n",
    "plt.boxplot(\n",
    "    df_copy['bathrooms_number'],\n",
    "    vert=False\n",
    ")\n",
    "plt.title('Bathrooms Column Outlier Detection')\n",
    "plt.yticks([])\n",
    "plt.gca().xaxis.set_major_formatter(plt.FuncFormatter(lambda x, position: (f'{int(x)}')))\n",
    "plt.gca().axvline(np.quantile(df_copy['bathrooms_number'], 0.25), linestyle='--', color='green', label='Q1')\n",
    "plt.gca().axvline(np.quantile(df_copy['bathrooms_number'], 0.50), linestyle='--', color='red', label='Median')\n",
    "plt.gca().axvline((df_copy['bathrooms_number'].mean()), linestyle='--', color='black', label='Mean')\n",
    "plt.gca().axvline(np.quantile(df_copy['bathrooms_number'], 0.75), linestyle='--', color='blue', label='Q3')\n",
    "plt.legend(loc='best')\n",
    "plt.xlabel('Bathrooms')"
   ]
  },
  {
   "cell_type": "markdown",
   "id": "d38878dd",
   "metadata": {},
   "source": [
    "### **2.9. Dealing With Null Values:**"
   ]
  },
  {
   "cell_type": "code",
   "execution_count": 53,
   "id": "891a1c66",
   "metadata": {},
   "outputs": [
    {
     "data": {
      "text/plain": [
       "real_estate_type       0\n",
       "district               0\n",
       "governorate            0\n",
       "area_m2                0\n",
       "bedrooms_number        0\n",
       "bathrooms_number       0\n",
       "price                  0\n",
       "down_payment        3705\n",
       "dtype: int64"
      ]
     },
     "execution_count": 53,
     "metadata": {},
     "output_type": "execute_result"
    }
   ],
   "source": [
    "df_copy.isnull().sum()"
   ]
  },
  {
   "cell_type": "code",
   "execution_count": 54,
   "id": "a8959656",
   "metadata": {},
   "outputs": [
    {
     "data": {
      "text/plain": [
       "51.82543013008812"
      ]
     },
     "execution_count": 54,
     "metadata": {},
     "output_type": "execute_result"
    }
   ],
   "source": [
    "float((df_copy['down_payment'].isnull().sum() / len(df_copy)) * 100) # 51.97444089456869"
   ]
  },
  {
   "cell_type": "markdown",
   "id": "af32c0ea",
   "metadata": {},
   "source": [
    "**2.9.1. Remove Column \"down_payment\" As, a Column with 51% Null Values, But We Will Create a Separate Dataframe For Payment Down Further Analysis:** "
   ]
  },
  {
   "cell_type": "code",
   "execution_count": 55,
   "id": "25c9210c",
   "metadata": {},
   "outputs": [],
   "source": [
    "df_copy.drop(\n",
    "    columns='down_payment',\n",
    "    inplace=True\n",
    ")"
   ]
  },
  {
   "cell_type": "markdown",
   "id": "e16b003c",
   "metadata": {},
   "source": [
    "### **2.10. Derived New Columns:**"
   ]
  },
  {
   "cell_type": "markdown",
   "id": "e7873652",
   "metadata": {},
   "source": [
    "**2.10.1. Derived Column \"general_district\" by Extracting All General Districts From The Dataset To Achieve Data Normalization & Standardization, Which Maps Coded Values To Meaningful, User-Friendly Descriptions:**"
   ]
  },
  {
   "cell_type": "markdown",
   "id": "0482a6c0",
   "metadata": {},
   "source": [
    "**(1) Create General Districts Lists For All Possible General Districts In the Cairo Government:**"
   ]
  },
  {
   "cell_type": "code",
   "execution_count": 56,
   "id": "fa505c05",
   "metadata": {},
   "outputs": [],
   "source": [
    "district_5th_settlement_list = list(df_copy['district'][df_copy['district'].str.contains('5th Settlement')].unique())\n",
    "district_1st_settlement_list =list(df_copy['district'][df_copy['district'].str.contains('1st Settlement')].unique())\n",
    "district_6st_settlement_list =list(df_copy['district'][df_copy['district'].str.contains('6th Settlement')].unique())\n",
    "district_madinaty_list = list(df_copy['district'][df_copy['district'].str.contains('Madinaty')].unique())\n",
    "district_mostakbal_list = list(df_copy['district'][df_copy['district'].str.contains('Mostakbal City')].unique())\n",
    "district_shorouk_list = list(df_copy['district'][df_copy['district'].str.contains('Shorouk')].unique())\n",
    "district_zamalek_list = list(df_copy['district'][df_copy['district'].str.contains('Zamalek')].unique())\n",
    "district_zahraa_al_maadi_list = list(df_copy['district'][df_copy['district'].str.contains(' - Zahraa Al Maadi')].unique())\n",
    "district_mokattam_list = list(df_copy['district'][df_copy['district'].str.contains('Mokattam')].unique())\n",
    "district_3rd_settlement_list = list(df_copy['district'][df_copy['district'].str.contains('3rd Settlement')].unique())\n",
    "district_new_capital_list = list(df_copy['district'][df_copy['district'].str.contains('New Capital City')].unique())\n",
    "district_sheraton_list = list(df_copy['district'][df_copy['district'].str.contains('Sheraton')].unique())\n",
    "district_new_heliopolis_list = list(df_copy['district'][df_copy['district'].str.contains('New Heliopolis')].unique())\n",
    "district_nasr_city_list = list(df_copy['district'][df_copy['district'].str.contains('Nasr City')].unique())\n",
    "district_badr_city_list = list(df_copy['district'][df_copy['district'].str.contains('Badr City')].unique())\n",
    "district_fostat_city_list = list(df_copy['district'][df_copy['district'].str.contains('El Fostat')].unique())\n",
    "district_katameya_list = list(df_copy['district'][df_copy['district'].str.contains(' - Katameya')].unique())\n",
    "district_obour_city_list = list(df_copy['district'][df_copy['district'].str.contains('Obour City')].unique())\n",
    "district_downtown_cairo_list = list(df_copy['district'][df_copy['district'].str.contains('Downtown Cairo')].unique())\n",
    "district_nozha_city_list = list(df_copy['district'][df_copy['district'].str.contains('New Nozha')].unique())\n",
    "district_almazah_city_list = list(df_copy['district'][df_copy['district'].str.contains('Almazah')].unique())\n",
    "district_garden_city_list = list(df_copy['district'][df_copy['district'].str.contains('Garden City')].unique())\n",
    "district_almanial_list = list(df_copy['district'][df_copy['district'].str.contains('Al Manial')].unique())\n",
    "district_boulaq_abo_el_ela_list = list(df_copy['district'][df_copy['district'].str.contains('Boulaq Abo El Ela')].unique())\n",
    "district_abasiya_list = list(df_copy['district'][df_copy['district'].str.contains('Abasiya')].unique())\n",
    "district_darb_al_ahmar_list = list(df_copy['district'][df_copy['district'].str.contains('Darb al-Ahmar')].unique())\n",
    "district_maadi_list = list(df_copy['district'][df_copy['district'].str.contains('- Maadi')].unique())\n",
    "district_heliopolis_list = list(df_copy['district'][df_copy['district'].str.contains(' - Heliopolis')].unique())\n",
    "district_rehab_list = list(df_copy['district'][df_copy['district'].str.contains('Rehab City Compound')].unique())"
   ]
  },
  {
   "cell_type": "code",
   "execution_count": 57,
   "id": "4b729b6f",
   "metadata": {},
   "outputs": [],
   "source": [
    "district_heliopolis_list.append('Heliopolis')\n",
    "district_maadi_list.append('Maadi')\n",
    "district_zahraa_al_maadi_list.append('Zahraa Al Maadi')"
   ]
  },
  {
   "cell_type": "markdown",
   "id": "09a4cf59",
   "metadata": {},
   "source": [
    "**(2) Create A Function \"districts_standarization\" To Retrive General District From \"district\" Column Using \"apply\" Function:**"
   ]
  },
  {
   "cell_type": "code",
   "execution_count": 58,
   "id": "ce9ccd7a",
   "metadata": {},
   "outputs": [],
   "source": [
    "def districts_standarization(district_column):\n",
    "    for region in district_1st_settlement_list:\n",
    "        if district_column.strip() == region.strip():\n",
    "            return '1st settlement'\n",
    "    \n",
    "    for region in district_5th_settlement_list:\n",
    "        if district_column.strip() == region.strip():\n",
    "            return '5th settlement'\n",
    "            \n",
    "    for region in district_6st_settlement_list:\n",
    "        if district_column.strip() == region.strip():\n",
    "            return '6th settlement'\n",
    "            \n",
    "    for region in district_madinaty_list:\n",
    "        if district_column.strip() == region.strip():\n",
    "            return 'Madinaty'\n",
    "            \n",
    "    for region in district_mostakbal_list:\n",
    "        if district_column.strip() == region.strip():\n",
    "            return 'Mostakbal City'\n",
    "            \n",
    "    for region in district_shorouk_list:\n",
    "        if district_column.strip() == region.strip():\n",
    "            return 'Shorouk City'\n",
    "            \n",
    "    for region in district_zamalek_list:\n",
    "        if district_column.strip() == region.strip():\n",
    "            return 'Zamalek'\n",
    "            \n",
    "    for region in district_zahraa_al_maadi_list:\n",
    "        if district_column.strip() == region.strip():\n",
    "            return 'Zahraa Al Maadi'\n",
    "        \n",
    "    for region in district_maadi_list:\n",
    "        if district_column.strip() == region.strip():\n",
    "            return 'Maadi'\n",
    "        \n",
    "    for region in district_mokattam_list:\n",
    "        if district_column.strip() == region.strip():\n",
    "            return 'Mokattam'\n",
    "            \n",
    "    for region in district_3rd_settlement_list:\n",
    "        if district_column.strip() == region.strip():\n",
    "            return '3rd settlement'\n",
    "            \n",
    "    for region in district_new_capital_list:\n",
    "        if district_column.strip() == region.strip():\n",
    "            return 'New Capital City'\n",
    "            \n",
    "    for region in district_sheraton_list:\n",
    "        if district_column.strip() == region.strip():\n",
    "            return 'Sheraton'\n",
    "            \n",
    "    for region in district_new_heliopolis_list:\n",
    "        if district_column.strip() == region.strip():\n",
    "            return 'New Heliopolis'\n",
    "        \n",
    "    for region in district_heliopolis_list:\n",
    "        if district_column.strip() == region.strip():\n",
    "            return 'Heliopolis'\n",
    "            \n",
    "    for region in district_nasr_city_list:\n",
    "        if district_column.strip() == region.strip():\n",
    "            return 'Nasr City'\n",
    "            \n",
    "    for region in district_badr_city_list:\n",
    "        if district_column.strip() == region.strip():\n",
    "            return 'Badr City'\n",
    "            \n",
    "    for region in district_fostat_city_list:\n",
    "        if district_column.strip() == region.strip():\n",
    "            return 'El Fostat'\n",
    "            \n",
    "    for region in district_katameya_list:\n",
    "        if district_column.strip() == region.strip():\n",
    "            return 'Katameya'\n",
    "            \n",
    "    for region in district_obour_city_list:\n",
    "        if district_column.strip() == region.strip():\n",
    "            return 'Obour City'\n",
    "            \n",
    "    for region in district_downtown_cairo_list:\n",
    "        if district_column.strip() == region.strip():\n",
    "            return 'Downtown Cairo'\n",
    "            \n",
    "    for region in district_nozha_city_list:\n",
    "        if district_column.strip() == region.strip():\n",
    "            return 'New Nozha'\n",
    "            \n",
    "    for region in district_almazah_city_list:\n",
    "        if district_column.strip() == region.strip():\n",
    "            return 'Almazah'\n",
    "            \n",
    "    for region in district_garden_city_list:\n",
    "        if district_column.strip() == region.strip():\n",
    "            return 'Garden City'\n",
    "            \n",
    "    for region in district_almanial_list:\n",
    "        if district_column.strip() == region.strip():\n",
    "            return 'Al Manial'\n",
    "            \n",
    "    for region in district_boulaq_abo_el_ela_list:\n",
    "        if district_column.strip() == region.strip():\n",
    "            return 'Boulaq Abo El Ela'\n",
    "            \n",
    "    for region in district_abasiya_list:\n",
    "        if district_column.strip() == region.strip():\n",
    "            return 'Abasiya'\n",
    "            \n",
    "    for region in district_darb_al_ahmar_list:\n",
    "        if district_column.strip() == region.strip():\n",
    "            return 'Darb Al-Ahmar'\n",
    "           \n",
    "    for region in district_rehab_list:\n",
    "        if district_column.strip() == region.strip():\n",
    "            return 'Rehab City'\n",
    "        \n",
    "    else:\n",
    "        return 'Other'"
   ]
  },
  {
   "cell_type": "code",
   "execution_count": 59,
   "id": "b7295aef",
   "metadata": {},
   "outputs": [],
   "source": [
    "df_copy['general_district'] = df_copy['district'].apply(districts_standarization)"
   ]
  },
  {
   "cell_type": "code",
   "execution_count": 60,
   "id": "b4a9a4f1",
   "metadata": {},
   "outputs": [
    {
     "data": {
      "text/plain": [
       "30"
      ]
     },
     "execution_count": 60,
     "metadata": {},
     "output_type": "execute_result"
    }
   ],
   "source": [
    "df_copy['general_district'].nunique()"
   ]
  },
  {
   "cell_type": "markdown",
   "id": "59906561",
   "metadata": {},
   "source": [
    "**2.10.2. Derived Column \"apartment_configuration\" To Analyze the Most Common Configuration Repetitions In The Dataset:**"
   ]
  },
  {
   "cell_type": "code",
   "execution_count": 61,
   "id": "db3aa19d",
   "metadata": {},
   "outputs": [],
   "source": [
    "df_copy['apartment_configuration'] = df_copy['bedrooms_number'].astype('string') + ' - ' + df_copy['bathrooms_number'].astype('string')"
   ]
  },
  {
   "cell_type": "markdown",
   "id": "e6101f5b",
   "metadata": {},
   "source": [
    "**2.10.3. Derived Column \"bathroom_bedroom_ratio\" To Calculate The Average Bathrooms Per Bedroom For The Entire Dataset:**"
   ]
  },
  {
   "cell_type": "code",
   "execution_count": 62,
   "id": "9213332d",
   "metadata": {},
   "outputs": [],
   "source": [
    "df_copy['bathroom_bedroom_ratio'] = (df_copy['bathrooms_number'] / df_copy['bedrooms_number']).round(2)"
   ]
  },
  {
   "cell_type": "markdown",
   "id": "be512fff",
   "metadata": {},
   "source": [
    "**2.10.4. Derived Column \"price_pr_sq_m_2\" To Identify The Most nad Least Expensive Neighborhoods In The Dataset:**"
   ]
  },
  {
   "cell_type": "code",
   "execution_count": 63,
   "id": "2ca573d2",
   "metadata": {},
   "outputs": [],
   "source": [
    "df_copy['price_per_sq_m_2'] = (df_copy['price'] / df_copy['area_m2']).round(2) "
   ]
  },
  {
   "cell_type": "code",
   "execution_count": 64,
   "id": "d2e56022",
   "metadata": {},
   "outputs": [],
   "source": [
    "df_copy.to_csv('cleaned_bayut_egypt.csv', index=False)"
   ]
  }
 ],
 "metadata": {
  "kernelspec": {
   "display_name": "Python 3",
   "language": "python",
   "name": "python3"
  },
  "language_info": {
   "codemirror_mode": {
    "name": "ipython",
    "version": 3
   },
   "file_extension": ".py",
   "mimetype": "text/x-python",
   "name": "python",
   "nbconvert_exporter": "python",
   "pygments_lexer": "ipython3",
   "version": "3.12.4"
  }
 },
 "nbformat": 4,
 "nbformat_minor": 5
}
