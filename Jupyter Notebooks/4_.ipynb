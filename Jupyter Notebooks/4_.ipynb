{
 "cells": [
  {
   "cell_type": "code",
   "execution_count": null,
   "id": "e5fb9585",
   "metadata": {},
   "outputs": [],
   "source": [
    "scatter_1 = sns.scatterplot(\n",
    "\n",
    "data=avg_price_per_sq_m_2_avg_bathromm_ratio,\n",
    "\n",
    "x='avg_bathroom_bedroom_ratio',\n",
    "\n",
    "y='avg_price_pr_sq_m_2',\n",
    "\n",
    "color='blue',\n",
    "\n",
    "alpha=1,\n",
    "\n",
    "s=60\n",
    "\n",
    ")\n",
    "\n",
    "\n",
    "text_list = []\n",
    "\n",
    "for index, row in avg_price_per_sq_m_2_avg_bathromm_ratio.iterrows():\n",
    "text_list.append(plt.text(row['avg_bathroom_bedroom_ratio'], row['avg_price_pr_sq_m_2'], index))\n",
    "adt.adjust_text(texts=text_list, size=60)\n",
    "\n",
    "sns.regplot(\n",
    "data=avg_price_per_sq_m_2_avg_bathromm_ratio,\n",
    "x='avg_bathroom_bedroom_ratio',\n",
    "y='avg_price_pr_sq_m_2',\n",
    "scatter=False,\n",
    "ax=scatter_1,\n",
    "color='blue',\n",
    "ci=None\n",
    ")\n",
    "plt.gca().yaxis.set_major_formatter(plt.FuncFormatter(lambda y, position: (f\"{int(y / 1000)} K\")))\n",
    "plt.grid()\n",
    "plt.title('Top 20 Common Districts Average Bathroom Bedroom Ratio Vs. Average Price Per Sq. M. Scattor Plot', fontsize=16)"
   ]
  }
 ],
 "metadata": {
  "language_info": {
   "name": "python"
  }
 },
 "nbformat": 4,
 "nbformat_minor": 5
}
